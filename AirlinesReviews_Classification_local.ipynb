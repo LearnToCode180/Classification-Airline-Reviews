{
 "cells": [
  {
   "cell_type": "code",
   "execution_count": 4,
   "metadata": {},
   "outputs": [],
   "source": [
    "import pandas as pd\n",
    "import numpy as np\n",
    "import random\n",
    "import time"
   ]
  },
  {
   "cell_type": "code",
   "execution_count": 2,
   "metadata": {},
   "outputs": [],
   "source": [
    "df = pd.read_csv('BA_AirlineReviews.csv')"
   ]
  },
  {
   "cell_type": "code",
   "execution_count": 3,
   "metadata": {},
   "outputs": [
    {
     "data": {
      "text/html": [
       "<div>\n",
       "<style scoped>\n",
       "    .dataframe tbody tr th:only-of-type {\n",
       "        vertical-align: middle;\n",
       "    }\n",
       "\n",
       "    .dataframe tbody tr th {\n",
       "        vertical-align: top;\n",
       "    }\n",
       "\n",
       "    .dataframe thead th {\n",
       "        text-align: right;\n",
       "    }\n",
       "</style>\n",
       "<table border=\"1\" class=\"dataframe\">\n",
       "  <thead>\n",
       "    <tr style=\"text-align: right;\">\n",
       "      <th></th>\n",
       "      <th>Unnamed: 0</th>\n",
       "      <th>OverallRating</th>\n",
       "      <th>ReviewHeader</th>\n",
       "      <th>Name</th>\n",
       "      <th>Datetime</th>\n",
       "      <th>VerifiedReview</th>\n",
       "      <th>ReviewBody</th>\n",
       "      <th>TypeOfTraveller</th>\n",
       "      <th>SeatType</th>\n",
       "      <th>Route</th>\n",
       "      <th>DateFlown</th>\n",
       "      <th>SeatComfort</th>\n",
       "      <th>CabinStaffService</th>\n",
       "      <th>GroundService</th>\n",
       "      <th>ValueForMoney</th>\n",
       "      <th>Recommended</th>\n",
       "      <th>Aircraft</th>\n",
       "      <th>Food&amp;Beverages</th>\n",
       "      <th>InflightEntertainment</th>\n",
       "      <th>Wifi&amp;Connectivity</th>\n",
       "    </tr>\n",
       "  </thead>\n",
       "  <tbody>\n",
       "    <tr>\n",
       "      <th>0</th>\n",
       "      <td>0</td>\n",
       "      <td>1.0</td>\n",
       "      <td>\"Service level far worse then Ryanair\"</td>\n",
       "      <td>L Keele</td>\n",
       "      <td>19th November 2023</td>\n",
       "      <td>True</td>\n",
       "      <td>4 Hours before takeoff we received a Mail stat...</td>\n",
       "      <td>Couple Leisure</td>\n",
       "      <td>Economy Class</td>\n",
       "      <td>London to Stuttgart</td>\n",
       "      <td>November 2023</td>\n",
       "      <td>1.0</td>\n",
       "      <td>1.0</td>\n",
       "      <td>1.0</td>\n",
       "      <td>1.0</td>\n",
       "      <td>no</td>\n",
       "      <td>NaN</td>\n",
       "      <td>NaN</td>\n",
       "      <td>NaN</td>\n",
       "      <td>NaN</td>\n",
       "    </tr>\n",
       "    <tr>\n",
       "      <th>1</th>\n",
       "      <td>1</td>\n",
       "      <td>3.0</td>\n",
       "      <td>\"do not upgrade members based on status\"</td>\n",
       "      <td>Austin Jones</td>\n",
       "      <td>19th November 2023</td>\n",
       "      <td>True</td>\n",
       "      <td>I recently had a delay on British Airways from...</td>\n",
       "      <td>Business</td>\n",
       "      <td>Economy Class</td>\n",
       "      <td>Brussels to London</td>\n",
       "      <td>November 2023</td>\n",
       "      <td>2.0</td>\n",
       "      <td>3.0</td>\n",
       "      <td>1.0</td>\n",
       "      <td>2.0</td>\n",
       "      <td>no</td>\n",
       "      <td>A320</td>\n",
       "      <td>1.0</td>\n",
       "      <td>2.0</td>\n",
       "      <td>2.0</td>\n",
       "    </tr>\n",
       "    <tr>\n",
       "      <th>2</th>\n",
       "      <td>2</td>\n",
       "      <td>8.0</td>\n",
       "      <td>\"Flight was smooth and quick\"</td>\n",
       "      <td>M A Collie</td>\n",
       "      <td>16th November 2023</td>\n",
       "      <td>False</td>\n",
       "      <td>Boarded on time, but it took ages to get to th...</td>\n",
       "      <td>Couple Leisure</td>\n",
       "      <td>Business Class</td>\n",
       "      <td>London Heathrow to Dublin</td>\n",
       "      <td>November 2023</td>\n",
       "      <td>3.0</td>\n",
       "      <td>3.0</td>\n",
       "      <td>4.0</td>\n",
       "      <td>3.0</td>\n",
       "      <td>yes</td>\n",
       "      <td>A320</td>\n",
       "      <td>4.0</td>\n",
       "      <td>NaN</td>\n",
       "      <td>NaN</td>\n",
       "    </tr>\n",
       "    <tr>\n",
       "      <th>3</th>\n",
       "      <td>3</td>\n",
       "      <td>1.0</td>\n",
       "      <td>\"Absolutely hopeless airline\"</td>\n",
       "      <td>Nigel Dean</td>\n",
       "      <td>16th November 2023</td>\n",
       "      <td>True</td>\n",
       "      <td>5 days before the flight, we were advised by B...</td>\n",
       "      <td>Couple Leisure</td>\n",
       "      <td>Economy Class</td>\n",
       "      <td>London to Dublin</td>\n",
       "      <td>December 2022</td>\n",
       "      <td>3.0</td>\n",
       "      <td>3.0</td>\n",
       "      <td>1.0</td>\n",
       "      <td>1.0</td>\n",
       "      <td>no</td>\n",
       "      <td>NaN</td>\n",
       "      <td>NaN</td>\n",
       "      <td>NaN</td>\n",
       "      <td>NaN</td>\n",
       "    </tr>\n",
       "    <tr>\n",
       "      <th>4</th>\n",
       "      <td>4</td>\n",
       "      <td>1.0</td>\n",
       "      <td>\"Customer Service is non existent\"</td>\n",
       "      <td>Gaylynne Simpson</td>\n",
       "      <td>14th November 2023</td>\n",
       "      <td>False</td>\n",
       "      <td>We traveled to Lisbon for our dream vacation, ...</td>\n",
       "      <td>Couple Leisure</td>\n",
       "      <td>Economy Class</td>\n",
       "      <td>London to Lisbon</td>\n",
       "      <td>November 2023</td>\n",
       "      <td>1.0</td>\n",
       "      <td>1.0</td>\n",
       "      <td>1.0</td>\n",
       "      <td>1.0</td>\n",
       "      <td>no</td>\n",
       "      <td>NaN</td>\n",
       "      <td>1.0</td>\n",
       "      <td>1.0</td>\n",
       "      <td>1.0</td>\n",
       "    </tr>\n",
       "  </tbody>\n",
       "</table>\n",
       "</div>"
      ],
      "text/plain": [
       "   Unnamed: 0  OverallRating                              ReviewHeader  \\\n",
       "0           0            1.0    \"Service level far worse then Ryanair\"   \n",
       "1           1            3.0  \"do not upgrade members based on status\"   \n",
       "2           2            8.0             \"Flight was smooth and quick\"   \n",
       "3           3            1.0             \"Absolutely hopeless airline\"   \n",
       "4           4            1.0        \"Customer Service is non existent\"   \n",
       "\n",
       "               Name            Datetime  VerifiedReview  \\\n",
       "0           L Keele  19th November 2023            True   \n",
       "1      Austin Jones  19th November 2023            True   \n",
       "2        M A Collie  16th November 2023           False   \n",
       "3        Nigel Dean  16th November 2023            True   \n",
       "4  Gaylynne Simpson  14th November 2023           False   \n",
       "\n",
       "                                          ReviewBody TypeOfTraveller  \\\n",
       "0  4 Hours before takeoff we received a Mail stat...  Couple Leisure   \n",
       "1  I recently had a delay on British Airways from...        Business   \n",
       "2  Boarded on time, but it took ages to get to th...  Couple Leisure   \n",
       "3  5 days before the flight, we were advised by B...  Couple Leisure   \n",
       "4  We traveled to Lisbon for our dream vacation, ...  Couple Leisure   \n",
       "\n",
       "         SeatType                      Route      DateFlown  SeatComfort  \\\n",
       "0   Economy Class        London to Stuttgart  November 2023          1.0   \n",
       "1   Economy Class         Brussels to London  November 2023          2.0   \n",
       "2  Business Class  London Heathrow to Dublin  November 2023          3.0   \n",
       "3   Economy Class           London to Dublin  December 2022          3.0   \n",
       "4   Economy Class           London to Lisbon  November 2023          1.0   \n",
       "\n",
       "   CabinStaffService  GroundService  ValueForMoney Recommended Aircraft  \\\n",
       "0                1.0            1.0            1.0          no      NaN   \n",
       "1                3.0            1.0            2.0          no     A320   \n",
       "2                3.0            4.0            3.0         yes     A320   \n",
       "3                3.0            1.0            1.0          no      NaN   \n",
       "4                1.0            1.0            1.0          no      NaN   \n",
       "\n",
       "   Food&Beverages  InflightEntertainment  Wifi&Connectivity  \n",
       "0             NaN                    NaN                NaN  \n",
       "1             1.0                    2.0                2.0  \n",
       "2             4.0                    NaN                NaN  \n",
       "3             NaN                    NaN                NaN  \n",
       "4             1.0                    1.0                1.0  "
      ]
     },
     "execution_count": 3,
     "metadata": {},
     "output_type": "execute_result"
    }
   ],
   "source": [
    "df.head()"
   ]
  },
  {
   "cell_type": "code",
   "execution_count": 4,
   "metadata": {},
   "outputs": [
    {
     "data": {
      "text/plain": [
       "(3701, 20)"
      ]
     },
     "execution_count": 4,
     "metadata": {},
     "output_type": "execute_result"
    }
   ],
   "source": [
    "df.shape"
   ]
  },
  {
   "cell_type": "markdown",
   "metadata": {},
   "source": [
    "delete the first column because it's just an index that exists already (sequestial numbering)"
   ]
  },
  {
   "cell_type": "code",
   "execution_count": 5,
   "metadata": {},
   "outputs": [],
   "source": [
    "df.drop(columns = df.columns[0], axis=1, inplace=True)"
   ]
  },
  {
   "cell_type": "markdown",
   "metadata": {},
   "source": [
    "## Analysis and Visualization"
   ]
  },
  {
   "cell_type": "code",
   "execution_count": 6,
   "metadata": {},
   "outputs": [
    {
     "data": {
      "text/plain": [
       "<AxesSubplot:xlabel='SeatType', ylabel='count'>"
      ]
     },
     "execution_count": 6,
     "metadata": {},
     "output_type": "execute_result"
    },
    {
     "data": {
      "image/png": "[encoded data removed]",
      "text/plain": [
       "<Figure size 720x432 with 1 Axes>"
      ]
     },
     "metadata": {
      "needs_background": "light"
     },
     "output_type": "display_data"
    }
   ],
   "source": [
    "import seaborn as sns\n",
    "from matplotlib import pyplot as plt\n",
    "\n",
    "fig = plt.figure(figsize = (10, 6))\n",
    "sns.set(font_scale=1.3)\n",
    "\n",
    "\n",
    "sns.countplot(x=df.SeatType, hue=df.TypeOfTraveller)\n"
   ]
  },
  {
   "cell_type": "code",
   "execution_count": 7,
   "metadata": {},
   "outputs": [
    {
     "data": {
      "text/plain": [
       "<AxesSubplot:xlabel='TypeOfTraveller', ylabel='count'>"
      ]
     },
     "execution_count": 7,
     "metadata": {},
     "output_type": "execute_result"
    },
    {
     "data": {
      "image/png": "[encoded data removed]",
      "text/plain": [
       "<Figure size 1008x576 with 1 Axes>"
      ]
     },
     "metadata": {},
     "output_type": "display_data"
    }
   ],
   "source": [
    "plt.figure(figsize = (14, 8))\n",
    "\n",
    "sns.countplot(x=df.TypeOfTraveller, hue=df.OverallRating)"
   ]
  },
  {
   "cell_type": "code",
   "execution_count": 9,
   "metadata": {},
   "outputs": [
    {
     "data": {
      "text/plain": [
       "Text(0.5, 1.0, 'Overall Rating for First Class Seat')"
      ]
     },
     "execution_count": 9,
     "metadata": {},
     "output_type": "execute_result"
    },
    {
     "data": {
      "image/png": "[encoded data removed]",
      "text/plain": [
       "<Figure size 432x288 with 1 Axes>"
      ]
     },
     "metadata": {},
     "output_type": "display_data"
    }
   ],
   "source": [
    "sns.countplot(x='OverallRating', data=df.loc[df['SeatType']=='First Class'])\n",
    "plt.title('Overall Rating for First Class Seat')"
   ]
  },
  {
   "cell_type": "code",
   "execution_count": 48,
   "metadata": {},
   "outputs": [
    {
     "data": {
      "text/html": [
       "<div>\n",
       "<style scoped>\n",
       "    .dataframe tbody tr th:only-of-type {\n",
       "        vertical-align: middle;\n",
       "    }\n",
       "\n",
       "    .dataframe tbody tr th {\n",
       "        vertical-align: top;\n",
       "    }\n",
       "\n",
       "    .dataframe thead th {\n",
       "        text-align: right;\n",
       "    }\n",
       "</style>\n",
       "<table border=\"1\" class=\"dataframe\">\n",
       "  <thead>\n",
       "    <tr style=\"text-align: right;\">\n",
       "      <th></th>\n",
       "      <th>SeatComfort</th>\n",
       "    </tr>\n",
       "    <tr>\n",
       "      <th>SeatType</th>\n",
       "      <th></th>\n",
       "    </tr>\n",
       "  </thead>\n",
       "  <tbody>\n",
       "    <tr>\n",
       "      <th>Economy Class</th>\n",
       "      <td>2.729144</td>\n",
       "    </tr>\n",
       "    <tr>\n",
       "      <th>Business Class</th>\n",
       "      <td>2.911338</td>\n",
       "    </tr>\n",
       "    <tr>\n",
       "      <th>Premium Economy</th>\n",
       "      <td>3.042614</td>\n",
       "    </tr>\n",
       "    <tr>\n",
       "      <th>First Class</th>\n",
       "      <td>3.688679</td>\n",
       "    </tr>\n",
       "  </tbody>\n",
       "</table>\n",
       "</div>"
      ],
      "text/plain": [
       "                 SeatComfort\n",
       "SeatType                    \n",
       "Economy Class       2.729144\n",
       "Business Class      2.911338\n",
       "Premium Economy     3.042614\n",
       "First Class         3.688679"
      ]
     },
     "execution_count": 48,
     "metadata": {},
     "output_type": "execute_result"
    }
   ],
   "source": [
    "df[['SeatType','SeatComfort']].groupby(['SeatType']).mean().sort_values(by = 'SeatComfort')"
   ]
  },
  {
   "cell_type": "markdown",
   "metadata": {},
   "source": [
    "It's clear that the First Class had the biggest mean of SeatComfort ratings, then Premium Economy Class,..."
   ]
  },
  {
   "cell_type": "markdown",
   "metadata": {},
   "source": [
    "Let's see now how the Cabine stuff behaves with the different types of traveller"
   ]
  },
  {
   "cell_type": "code",
   "execution_count": 51,
   "metadata": {},
   "outputs": [
    {
     "data": {
      "text/plain": [
       "<AxesSubplot:xlabel='TypeOfTraveller', ylabel='CabinStaffService'>"
      ]
     },
     "execution_count": 51,
     "metadata": {},
     "output_type": "execute_result"
    },
    {
     "data": {
      "image/png": "[encoded data removed]",
      "text/plain": [
       "<Figure size 576x432 with 1 Axes>"
      ]
     },
     "metadata": {},
     "output_type": "display_data"
    }
   ],
   "source": [
    "plt.figure(figsize=(8, 6))\n",
    "\n",
    "sns.barplot(x='TypeOfTraveller', y='CabinStaffService', data=df)"
   ]
  },
  {
   "cell_type": "markdown",
   "metadata": {},
   "source": [
    "We can conclude that all of traveller types have the same rating about the cabine stuff service."
   ]
  },
  {
   "cell_type": "code",
   "execution_count": 55,
   "metadata": {},
   "outputs": [
    {
     "data": {
      "text/plain": [
       "<AxesSubplot:xlabel='SeatType', ylabel='Food&Beverages'>"
      ]
     },
     "execution_count": 55,
     "metadata": {},
     "output_type": "execute_result"
    },
    {
     "data": {
      "image/png": "[encoded data removed]",
      "text/plain": [
       "<Figure size 648x432 with 1 Axes>"
      ]
     },
     "metadata": {},
     "output_type": "display_data"
    }
   ],
   "source": [
    "plt.figure(figsize=(9,6))\n",
    "\n",
    "sns.boxplot(x='SeatType', y='Food&Beverages', data=df)"
   ]
  },
  {
   "cell_type": "markdown",
   "metadata": {},
   "source": [
    "Let's finish be seeing how much recommandations we got for each aircraft in this dataset:"
   ]
  },
  {
   "cell_type": "code",
   "execution_count": 77,
   "metadata": {},
   "outputs": [
    {
     "data": {
      "text/plain": [
       "count     1922\n",
       "unique     202\n",
       "top       A320\n",
       "freq       366\n",
       "Name: Aircraft, dtype: object"
      ]
     },
     "execution_count": 77,
     "metadata": {},
     "output_type": "execute_result"
    }
   ],
   "source": [
    "df['Aircraft'].describe()"
   ]
  },
  {
   "cell_type": "markdown",
   "metadata": {},
   "source": [
    "As you can see, there is just 1922 elements not null of 3700, and 202 aircraft unique values. We cannot visualise them all in one plot. We gonna shoose just the top 10 aircraft. "
   ]
  },
  {
   "cell_type": "markdown",
   "metadata": {},
   "source": [
    "Here is another method to see the number of unique values of this column:"
   ]
  },
  {
   "cell_type": "code",
   "execution_count": 28,
   "metadata": {},
   "outputs": [
    {
     "data": {
      "text/plain": [
       "202"
      ]
     },
     "execution_count": 28,
     "metadata": {},
     "output_type": "execute_result"
    }
   ],
   "source": [
    "df['Aircraft'].nunique()"
   ]
  },
  {
   "cell_type": "code",
   "execution_count": 18,
   "metadata": {},
   "outputs": [
    {
     "data": {
      "text/plain": [
       "A320                     366\n",
       "Boeing 777               272\n",
       "Boeing 747-400           182\n",
       "A380                     166\n",
       "Boeing 777-200           125\n",
       "                        ... \n",
       "A319 / Boeing 787-9        1\n",
       "Boeing 747-400 / A319      1\n",
       "A320 / Boeing 747-400      1\n",
       "Boeing 777 / A380          1\n",
       "Airbus 319                 1\n",
       "Name: Aircraft, Length: 202, dtype: int64"
      ]
     },
     "execution_count": 18,
     "metadata": {},
     "output_type": "execute_result"
    }
   ],
   "source": [
    "df['Aircraft'].value_counts()"
   ]
  },
  {
   "cell_type": "code",
   "execution_count": 19,
   "metadata": {},
   "outputs": [
    {
     "data": {
      "text/plain": [
       "A320                         160\n",
       "Boeing 777                    99\n",
       "A380                          86\n",
       "Boeing 747-400                80\n",
       "Boeing 777-200                58\n",
       "                            ... \n",
       "Boeing 747 and Boeing 777      1\n",
       "Boeing 777 / A380              1\n",
       "A319 / Boeing 787-9            1\n",
       "Airbus A32                     1\n",
       "Airbus 319                     1\n",
       "Name: Aircraft, Length: 133, dtype: int64"
      ]
     },
     "execution_count": 19,
     "metadata": {},
     "output_type": "execute_result"
    }
   ],
   "source": [
    "df.loc[(df.Recommended == 'yes'), 'Aircraft'].value_counts()"
   ]
  },
  {
   "cell_type": "markdown",
   "metadata": {},
   "source": [
    "So, now we can take just the index of the 10 first ones"
   ]
  },
  {
   "cell_type": "code",
   "execution_count": 15,
   "metadata": {},
   "outputs": [],
   "source": [
    "aircraft_10 = df.loc[(df.Recommended == 'yes'), 'Aircraft'].value_counts().iloc[:10].index # we can use also .head(10) instead of iloc[:10]"
   ]
  },
  {
   "cell_type": "code",
   "execution_count": 24,
   "metadata": {},
   "outputs": [
    {
     "data": {
      "text/plain": [
       "<AxesSubplot:xlabel='Aircraft', ylabel='count'>"
      ]
     },
     "execution_count": 24,
     "metadata": {},
     "output_type": "execute_result"
    },
    {
     "data": {
      "image/png": "[encoded data removed]",
      "text/plain": [
       "<Figure size 1296x576 with 1 Axes>"
      ]
     },
     "metadata": {},
     "output_type": "display_data"
    }
   ],
   "source": [
    "plt.figure(figsize = (18, 8))\n",
    "\n",
    "sns.countplot(x='Aircraft', data=df.loc[(df.Recommended == 'yes') & (df.Aircraft.isin(aircraft_10)), :])"
   ]
  },
  {
   "cell_type": "markdown",
   "metadata": {},
   "source": [
    "## Data Cleaning"
   ]
  },
  {
   "cell_type": "markdown",
   "metadata": {},
   "source": [
    "Let's see how much Null data do we have in each column"
   ]
  },
  {
   "cell_type": "code",
   "execution_count": 13,
   "metadata": {},
   "outputs": [
    {
     "data": {
      "text/plain": [
       "OverallRating               5\n",
       "ReviewHeader                0\n",
       "Name                        0\n",
       "Datetime                    0\n",
       "VerifiedReview              0\n",
       "ReviewBody                  0\n",
       "TypeOfTraveller           771\n",
       "SeatType                    2\n",
       "Route                     775\n",
       "DateFlown                 778\n",
       "SeatComfort               116\n",
       "CabinStaffService         127\n",
       "GroundService             846\n",
       "ValueForMoney               1\n",
       "Recommended                 0\n",
       "Aircraft                 1779\n",
       "Food&Beverages            386\n",
       "InflightEntertainment    1150\n",
       "Wifi&Connectivity        3092\n",
       "dtype: int64"
      ]
     },
     "execution_count": 13,
     "metadata": {},
     "output_type": "execute_result"
    }
   ],
   "source": [
    "df.isnull().sum()"
   ]
  },
  {
   "cell_type": "markdown",
   "metadata": {},
   "source": [
    "## Data Augmentation with MLM with fill-mask"
   ]
  },
  {
   "cell_type": "code",
   "execution_count": 1,
   "metadata": {},
   "outputs": [],
   "source": [
    "from transformers import pipeline\n",
    "\n",
    "fillmask = pipeline(\"fill-mask\", model=\"roberta-base\")\n",
    "mask_token = fillmask.tokenizer.mask_token"
   ]
  },
  {
   "cell_type": "code",
   "execution_count": 2,
   "metadata": {},
   "outputs": [],
   "source": [
    "from nltk.corpus import stopwords\n",
    "\n",
    "stop_words = set(stopwords.words('english'))"
   ]
  },
  {
   "cell_type": "code",
   "execution_count": 3,
   "metadata": {},
   "outputs": [],
   "source": [
    "def mask_sentence(sentence, min_mask, ignore_stop_words=False):\n",
    "    \"\"\"\n",
    "    min_mask paramter is for the minimum number of masked tokens, and the number itself then, is choosen randomly\n",
    "    The number of words of the sentence should be at least 3 else, an error will be raised\n",
    "    The last parameter ignore_stop_words is for activating or desactivating masking stop words\n",
    "    \"\"\"\n",
    "    words = sentence.split(' ')\n",
    "    try:\n",
    "        fraction = 3 if len(words) > 5 else 2\n",
    "        k_list = random.sample(range(0, len(words), 3), random.randint(min_mask, int(len(words)/fraction)))\n",
    "        \n",
    "        for k in k_list:\n",
    "                masked_sentence_list = words[:k] + [mask_token] + words[k+1:]\n",
    "                words = masked_sentence_list\n",
    "        \n",
    "        if ignore_stop_words == True:\n",
    "            words = sentence.split(' ')\n",
    "            all_stop_words = True\n",
    "            for k in k_list:\n",
    "                if words[k].lower() not in list(stop_words):\n",
    "                    all_stop_words = False\n",
    "            if all_stop_words == False:\n",
    "                for k in k_list:\n",
    "                    if words[k].lower() not in list(stop_words):     \n",
    "                        masked_sentence_list = words[:k] + [mask_token] + words[k+1:]\n",
    "                        words = masked_sentence_list\n",
    "        \n",
    "        return \" \".join(masked_sentence_list)\n",
    "\n",
    "    except ValueError:\n",
    "        if len(sentence) < 3:\n",
    "            print(\"ERROR: The number of words of the sentence should be at least 3\")\n",
    "        else:\n",
    "            print(f\"ERROR: The minimum number of mask tokens that you specified is so high,\\n\\tIt should be less than or equal to {int(len(words)/3)}\")"
   ]
  },
  {
   "cell_type": "code",
   "execution_count": 6,
   "metadata": {},
   "outputs": [
    {
     "data": {
      "text/plain": [
       "'<mask> number of <mask>'"
      ]
     },
     "execution_count": 6,
     "metadata": {},
     "output_type": "execute_result"
    }
   ],
   "source": [
    "test = \"The number of words\"\n",
    "mask_sentence(test, 2, False)"
   ]
  },
  {
   "cell_type": "code",
   "execution_count": 8,
   "metadata": {},
   "outputs": [
    {
     "data": {
      "text/plain": [
       "'The number of <mask>'"
      ]
     },
     "execution_count": 8,
     "metadata": {},
     "output_type": "execute_result"
    }
   ],
   "source": [
    "test = \"The number of words\"\n",
    "mask_sentence(test, 2, True)"
   ]
  },
  {
   "cell_type": "markdown",
   "metadata": {},
   "source": [
    "In the above example, just the first and fourth words can be masked, but since the first one is a stop word, so just the second word have been masked."
   ]
  },
  {
   "cell_type": "code",
   "execution_count": 7,
   "metadata": {},
   "outputs": [],
   "source": [
    "def predict_mask_tokens(masked_sentence):\n",
    "    for _ in range(masked_sentence.count('<mask>')):\n",
    "        predictions = fillmask(masked_sentence)\n",
    "        try:\n",
    "            masked_sentence = predictions[random.randint(0,4)]['sequence']\n",
    "        except Exception:\n",
    "            masked_sentence = predictions[0][random.randint(0,4)]['sequence']\n",
    "    return masked_sentence"
   ]
  },
  {
   "cell_type": "code",
   "execution_count": 15,
   "metadata": {},
   "outputs": [],
   "source": [
    "def predict_mask_tokens(masked_sentence):\n",
    "    predictions = fillmask(masked_sentence)\n",
    "    for i in range(masked_sentence.count('<mask>')):\n",
    "        masked_sentence = masked_sentence.replace('<mask>', predictions[i][random.randint(0,4)]['token_str'], 1)\n",
    "    return masked_sentence"
   ]
  },
  {
   "cell_type": "markdown",
   "metadata": {},
   "source": [
    "## Data Augmentation with MLM with customization"
   ]
  },
  {
   "cell_type": "code",
   "execution_count": 17,
   "metadata": {},
   "outputs": [],
   "source": [
    "from transformers import AutoTokenizer, AutoModelForMaskedLM\n",
    "import torch\n",
    "\n",
    "tokenizer = AutoTokenizer.from_pretrained('roberta-base')\n",
    "model = AutoModelForMaskedLM.from_pretrained('roberta-base')"
   ]
  },
  {
   "cell_type": "code",
   "execution_count": 2,
   "metadata": {},
   "outputs": [],
   "source": [
    "def mask_sentence_2(sentence, min_mask, ignore_stop_words=False):\n",
    "    \"\"\"\n",
    "    min_mask paramter is for the minimum number of masked tokens, and the number itself then, is choosen randomly\n",
    "    The number of words of the sentence should be at least 3 else, an error will be raised\n",
    "    The last parameter ignore_stop_words is for activating or desactivating masking stop words\n",
    "    \"\"\"\n",
    "    words = sentence.split(' ')\n",
    "    try:\n",
    "        fraction = 3 if len(words) > 5 else 2\n",
    "        k_list = random.sample(range(0, len(words), 3), random.randint(min_mask, int(len(words)/fraction)))\n",
    "        \n",
    "        for k in k_list:\n",
    "                masked_sentence_list = words[:k] + [tokenizer.mask_token] + words[k+1:]\n",
    "                words = masked_sentence_list\n",
    "        \n",
    "        if ignore_stop_words == True:\n",
    "            words = sentence.split(' ')\n",
    "            all_stop_words = True\n",
    "            for k in k_list:\n",
    "                if words[k].lower() not in list(stop_words):\n",
    "                    all_stop_words = False\n",
    "            if all_stop_words == False:\n",
    "                for k in k_list:\n",
    "                    if words[k].lower() not in list(stop_words):     \n",
    "                        masked_sentence_list = words[:k] + [tokenizer.mask_token] + words[k+1:]\n",
    "                        words = masked_sentence_list\n",
    "        \n",
    "        return \" \".join(masked_sentence_list)\n",
    "\n",
    "    except ValueError:\n",
    "        if len(sentence) < 3:\n",
    "            print(\"ERROR: The number of words of the sentence should be at least 3\")\n",
    "        else:\n",
    "            print(f\"ERROR: The minimum number of mask tokens that you specified is so high,\\n\\tIt should be less than or equal to {int(len(words)/3)}\")"
   ]
  },
  {
   "cell_type": "code",
   "execution_count": 62,
   "metadata": {},
   "outputs": [
    {
     "data": {
      "text/plain": [
       "'<mask> number of <mask>'"
      ]
     },
     "execution_count": 62,
     "metadata": {},
     "output_type": "execute_result"
    }
   ],
   "source": [
    "sentence_exemple_2 = \"The number of words\"\n",
    "masked_sentence_2 = mask_sentence_2(sentence_exemple_2, 1)\n",
    "masked_sentence_2"
   ]
  },
  {
   "cell_type": "code",
   "execution_count": 63,
   "metadata": {},
   "outputs": [],
   "source": [
    "input_seq = tokenizer.encode(masked_sentence_2, max_length=512, truncation=True, return_tensors='pt')\n",
    "mask_tokens_indexes = torch.where(input_seq == tokenizer.mask_token_id)[1]"
   ]
  },
  {
   "cell_type": "code",
   "execution_count": 64,
   "metadata": {},
   "outputs": [
    {
     "data": {
      "text/plain": [
       "tensor([1, 4])"
      ]
     },
     "execution_count": 64,
     "metadata": {},
     "output_type": "execute_result"
    }
   ],
   "source": [
    "mask_tokens_indexes"
   ]
  },
  {
   "cell_type": "code",
   "execution_count": 65,
   "metadata": {},
   "outputs": [],
   "source": [
    "logits = model(input_seq).logits\n",
    "masked_token_logits = logits[0, mask_tokens_indexes]"
   ]
  },
  {
   "cell_type": "markdown",
   "metadata": {},
   "source": [
    "There are two masked tokens, we can refer to the first one by **.indices[0]**, and so on."
   ]
  },
  {
   "cell_type": "code",
   "execution_count": 73,
   "metadata": {},
   "outputs": [],
   "source": [
    "top5_tokens = torch.topk(masked_token_logits, 5).indices[0]"
   ]
  },
  {
   "cell_type": "code",
   "execution_count": 74,
   "metadata": {},
   "outputs": [
    {
     "data": {
      "text/plain": [
       "'Total'"
      ]
     },
     "execution_count": 74,
     "metadata": {},
     "output_type": "execute_result"
    }
   ],
   "source": [
    "tokenizer.decode(top5_tokens[0])"
   ]
  },
  {
   "cell_type": "code",
   "execution_count": 75,
   "metadata": {},
   "outputs": [
    {
     "data": {
      "text/plain": [
       "' users'"
      ]
     },
     "execution_count": 75,
     "metadata": {},
     "output_type": "execute_result"
    }
   ],
   "source": [
    "tokenizer.decode(torch.topk(masked_token_logits, 3).indices[1][0])"
   ]
  },
  {
   "cell_type": "markdown",
   "metadata": {},
   "source": [
    "Now, let's create a function that automatically replace all masked tokens by one of the top 3 predictions"
   ]
  },
  {
   "cell_type": "code",
   "execution_count": 77,
   "metadata": {},
   "outputs": [],
   "source": [
    "def predict_mask_tokens_2(masked_sentence):\n",
    "    input_seq = tokenizer.encode(masked_sentence, max_length=512, truncation=True, return_tensors='pt')\n",
    "    masked_tokens_indexes = torch.where(input_seq == tokenizer.mask_token_id)[1]\n",
    "    \n",
    "    logits = model(input_seq).logits\n",
    "    masked_tokens_logits = logits[0, masked_tokens_indexes]\n",
    "   \n",
    "    for i in range(len(masked_tokens_indexes)):\n",
    "        masked_sentence = masked_sentence.replace('<mask>', tokenizer.decode(torch.topk(masked_tokens_logits, 3).indices[i][random.randint(0,2)]), 1)\n",
    "    return masked_sentence"
   ]
  },
  {
   "cell_type": "markdown",
   "metadata": {},
   "source": [
    "### Test of the speed of each method on a sentence of 34 words"
   ]
  },
  {
   "cell_type": "code",
   "execution_count": 13,
   "metadata": {},
   "outputs": [],
   "source": [
    "sentence = \"4 Hours before takeoff we received a Mail stating a cryptic message that there are disruptions to be expected as \\\n",
    "there is a limit on how many planes can leave at the same time.\""
   ]
  },
  {
   "cell_type": "code",
   "execution_count": 85,
   "metadata": {},
   "outputs": [
    {
     "data": {
      "text/plain": [
       "34"
      ]
     },
     "execution_count": 85,
     "metadata": {},
     "output_type": "execute_result"
    }
   ],
   "source": [
    "len(sentence.split(' '))"
   ]
  },
  {
   "cell_type": "code",
   "execution_count": 18,
   "metadata": {},
   "outputs": [
    {
     "data": {
      "text/plain": [
       "'4 Hours before <mask> we received a Mail stating <mask> cryptic message that there are disruptions to be <mask> as there <mask> a limit <mask> how many <mask> can leave at the same <mask>'"
      ]
     },
     "execution_count": 18,
     "metadata": {},
     "output_type": "execute_result"
    }
   ],
   "source": [
    "masked_sentence = mask_sentence_2(sentence, 4)\n",
    "masked_sentence"
   ]
  },
  {
   "cell_type": "code",
   "execution_count": 19,
   "metadata": {},
   "outputs": [
    {
     "name": "stdout",
     "output_type": "stream",
     "text": [
      "4 Hours before, we received a Mail stating this cryptic message that there are disruptions to be experienced as there is a limit on how many people can leave at the same hour\n",
      "0.5479986667633057\n"
     ]
    }
   ],
   "source": [
    "start_time = time.time()\n",
    "print(predict_mask_tokens(masked_sentence))\n",
    "print(time.time()-start_time)"
   ]
  },
  {
   "cell_type": "code",
   "execution_count": 97,
   "metadata": {},
   "outputs": [
    {
     "name": "stdout",
     "output_type": "stream",
     "text": [
      "- Hours before  departure we received a Mail stating  the cryptic message that there are  flights to be  delays as there 's a limit  of how many planes can leave  at the same  flight\n",
      "0.08852934837341309\n"
     ]
    }
   ],
   "source": [
    "start_time = time.time()\n",
    "print(predict_mask_tokens_2(masked_sentence_2))\n",
    "print(time.time()-start_time)"
   ]
  },
  {
   "cell_type": "markdown",
   "metadata": {},
   "source": [
    "### Test of the speed of each method on a sentence of the longest sentence (654 words)"
   ]
  },
  {
   "cell_type": "markdown",
   "metadata": {},
   "source": [
    "I cannot test the first approach on the longest sentence because it doesn't involve the truncation operation, and I don't know exactly the maximum number of words accepted (512 is the number of tokens and they are not necessarily the words).\n",
    "\n",
    "I tryed many ones, and I successed finaly to find a sentence with **308 words** that worked.\n",
    " \n",
    "I tested the second approach with the longest sentence without any problems, because it gonna be truncated if it exceed the token limit of RoBERTa."
   ]
  },
  {
   "cell_type": "code",
   "execution_count": 81,
   "metadata": {},
   "outputs": [],
   "source": [
    "sen_len = df['ReviewBody'].apply(lambda x: len(x.split(' ')))"
   ]
  },
  {
   "cell_type": "code",
   "execution_count": 112,
   "metadata": {},
   "outputs": [
    {
     "data": {
      "text/plain": [
       "12      308\n",
       "25      300\n",
       "47      362\n",
       "53      348\n",
       "65      375\n",
       "       ... \n",
       "3591    368\n",
       "3606    327\n",
       "3610    357\n",
       "3641    308\n",
       "3648    377\n",
       "Name: ReviewBody, Length: 229, dtype: int64"
      ]
     },
     "execution_count": 112,
     "metadata": {},
     "output_type": "execute_result"
    }
   ],
   "source": [
    "sen_len[(sen_len >= 300) & (sen_len <= 400)]"
   ]
  },
  {
   "cell_type": "code",
   "execution_count": 129,
   "metadata": {},
   "outputs": [],
   "source": [
    "sentence_308 = df['ReviewBody'][3641]"
   ]
  },
  {
   "cell_type": "code",
   "execution_count": 130,
   "metadata": {},
   "outputs": [
    {
     "data": {
      "text/plain": [
       "'<mask> - Johannesburg <mask> My first <mask> on A380. <mask> half an hour delay because <mask> planes late <mask> boarding started. <mask> thing I <mask> was how <mask> the seats <mask> Second thing to notice is <mask> the plane <mask> not properly <mask> There were <mask> stains and <mask> cans left <mask> At this point I noticed some toilet paper <mask> the panels <mask> my head. <mask> asked the <mask> crew explained <mask> is how <mask> fixed condensation <mask> from the <mask> conditioning. Anyhow <mask> for lift <mask> I turned on the inflight <mask> system to <mask> it from <mask> camera at <mask> tail of <mask> plane. After <mask> for 5 <mask> I couldn\\'t <mask> it anywhere. <mask> I found <mask> there is <mask> such option <mask> BA A380s). <mask> no tail <mask> fine let\\'s <mask> to some <mask> Wrong the <mask> are not <mask> Cabin crew <mask> me they will \"bring me <mask> more\". One <mask> later suffice <mask> to say <mask> crew did <mask> bring anything. I\\'ve managed to <mask> a pair <mask> unused headphones <mask> one empty <mask> just to <mask> out they <mask> not working <mask> Probably it <mask> some problem <mask> the jack in the seat <mask> the whole <mask> entertainment system <mask> And if <mask> was not <mask> it was time for dinner. By the time it was my <mask> BA had <mask> out of <mask> so my dinner was asparagus <mask> rice or <mask> like that. <mask> don\\'t even have to look at it to <mask> why everyone <mask> was choosing <mask> \"chicken\". So <mask> edible dinner <mask> soundless entertainment <mask> Pretty much <mask> the rest <mask> the journey <mask> the minutes <mask> I could <mask> off this plane. The worst part is I <mask> a return <mask> with BA <mask> I\\'ll be <mask> to switch <mask> another airline if possible.'"
      ]
     },
     "execution_count": 130,
     "metadata": {},
     "output_type": "execute_result"
    }
   ],
   "source": [
    "sentence_masked_308 = mask_sentence_2(sentence_308, 10)\n",
    "sentence_masked_308"
   ]
  },
  {
   "cell_type": "code",
   "execution_count": 131,
   "metadata": {},
   "outputs": [
    {
     "name": "stdout",
     "output_type": "stream",
     "text": [
      "5 - Johannesburg. My first stop on A380. After half an hour delay because 2 planes late, boarding started.First thing I noted was how comfortable the seats were Second thing to notice is how the plane was not properly washed There were some stains and garbage cans left out At this point I noticed some toilet paper under the panels behind my head. After asked the airline crew explained that is how the fixed condensation comes from the air conditioning. Anyhow, for lift time I turned on the inflight sound system to see it from my camera at a tail of my plane. After trying for 5 hours I couldn't see it anywhere. Eventually I found out there is one such option on BA A380s). Still no tail sounds fine let's move to some. Wrong the seats are not available Cabin crew tell me they will \"bring me 2 more\". One day later suffice it to say Cabin crew did actually bring anything. I've managed to add a pair more unused headphones into one empty ear just to figure out they're not working? Probably it's some problem where the jack in the seat controls the whole plane entertainment system. And if all was not good it was time for dinner. By the time it was my time BA had sold out of food so my dinner was asparagus and rice or something like that. We don't even have to look at it to understand why everyone here was choosing only \"chicken\". So no edible dinner just soundless entertainment! Pretty much spent the rest of the journey in the minutes when I could walk off this plane. The worst part is I get a return trip with BA but I'll be sure to switch to another airline if possible.\n",
      "58.64065194129944\n"
     ]
    }
   ],
   "source": [
    "start_time = time.time()\n",
    "print(predict_mask_tokens(sentence_masked_308))\n",
    "print(time.time()-start_time)"
   ]
  },
  {
   "cell_type": "code",
   "execution_count": 132,
   "metadata": {},
   "outputs": [
    {
     "name": "stdout",
     "output_type": "stream",
     "text": [
      "1 - Johannesburg : My first  trip on A380.  About half an hour delay because  the planes late  as boarding started.  First thing I  saw was how  uncomfortable the seats . Second thing to notice is  how the plane  cooled not properly ! There were  food stains and  beer cans left . At this point I noticed some toilet paper  on the panels  above my head.  When asked the  flight crew explained  this is how  they fixed condensation  leaks from the  cabin conditioning. Anyhow  waiting for lift  tickets I turned on the inflight  entertainment system to  view it from  my camera at  the tail of  my plane. After  sitting for 5  minutes I couldn't  hear it anywhere.  Then I found  out there is  one such option  with BA A380s).  If no tail , fine let's  go to some ! Wrong the  lights are not  working Cabin crew  tells me they will \"bring me  one more\". One  hour later suffice 's to say  cabin crew did  NOT bring anything. I've managed to  find a pair  my unused headphones  in one empty  one just to  find out they  were not working ? Probably it  was some problem  on the jack in the seat  or the whole  seat entertainment system ! And if  it was not  enough it was time for dinner. By the time it was my  dinner BA had  run out of  soup so my dinner was asparagus , rice or  whatever like that.  We don't even have to look at it to  see why everyone  there was choosing  to \"chicken\". So  not edible dinner  and soundless entertainment . Pretty much  spent the rest  for the journey  with the minutes  before I could  get off this plane. The worst part is I  have a return  ticket with BA . I'll be  sure to switch  with another airline if possible.\n",
      "0.7463693618774414\n"
     ]
    }
   ],
   "source": [
    "start_time = time.time()\n",
    "print(predict_mask_tokens_2(sentence_masked_308))\n",
    "print(time.time()-start_time)"
   ]
  },
  {
   "cell_type": "markdown",
   "metadata": {},
   "source": [
    "The difference in time execution is **crazy**"
   ]
  },
  {
   "cell_type": "code",
   "execution_count": 139,
   "metadata": {},
   "outputs": [],
   "source": [
    "longest_sentence_index = sen_len[sen_len == sen_len.max()].index[0]"
   ]
  },
  {
   "cell_type": "code",
   "execution_count": 140,
   "metadata": {},
   "outputs": [],
   "source": [
    "longest_sentence = df['ReviewBody'][longest_sentence_index]"
   ]
  },
  {
   "cell_type": "code",
   "execution_count": 141,
   "metadata": {},
   "outputs": [
    {
     "data": {
      "text/plain": [
       "\"<mask> Kong to <mask> via London. <mask> whole experience <mask> a nightmare <mask> me and <mask> wife. My <mask> lost her <mask> ever since <mask> first day <mask> our journey <mask> 1st August <mask> our two <mask> of luggage <mask> left in <mask> Airport by <mask> staff when <mask> took the <mask> flight from <mask> UK to <mask> We went <mask> Menzies in <mask> and they <mask> a repor. <mask> stated in <mask> missing report <mask> if the <mask> was found, <mask> should be <mask> to our <mask> b&b house <mask> Marstal in <mask> on or <mask> 3rd August <mask> deliver to <mask> hotel we <mask> in CPH <mask> they were <mask> on 4th <mask> On 2nd <mask> we found <mask> the updated <mask> of our <mask> luggage in <mask> BA website <mask> that one <mask> our luggage <mask> found while <mask> one had <mask> possible match. <mask> we kept <mask> and emailing <mask> staff to <mask> them to <mask> the luggage <mask> our house <mask> they failed <mask> do so. <mask> the website <mask> showed that <mask> chose to <mask> up the <mask> in the <mask> which was <mask> our preference <mask> we failed <mask> change the <mask> on the <mask> as it <mask> preset. The <mask> even changed <mask> latest delivery <mask> to 3th <mask> 2020 instead <mask> 2019 and <mask> could not <mask> it by <mask> On 3rd <mask> Menzies staff <mask> failed to <mask> the luggage to us so <mask> told them <mask> decided to <mask> them up <mask> the airport. <mask> when we <mask> to the <mask> airport on <mask> 4th August, <mask> told us <mask> they had <mask> sent the <mask> luggage to <mask> island in <mask> on 4th. <mask> they did <mask> follow our <mask> and sent <mask> to the <mask> place on <mask> wrong date. <mask> then asked <mask> to find <mask> other luggage <mask> had been <mask> with a <mask> match randomly <mask> the trolleys <mask> their office. <mask> did find <mask> other one <mask> ourselves in <mask> airport, which <mask> claimed had <mask> sent to <mask> island but <mask> insisted that <mask> was the <mask> match one! <mask> were so <mask> and even <mask> us to <mask> to the <mask> to push <mask> to find <mask> baggage for <mask> We believe <mask> the baggage <mask> the one <mask> was sent <mask> the island <mask> is still <mask> but the <mask> messed it <mask> We were <mask> confused which <mask> was really <mask> We finally <mask> to ask <mask> to deliver <mask> luggage in <mask> to the <mask> and send <mask> to the <mask> address which <mask> our next <mask> When we <mask> back to <mask> hotel in <mask> evening on <mask> 4th, we <mask> Menzies again <mask> found out <mask> our luggage <mask> Marstal had been sent back <mask> the airport <mask> 8 pm <mask> the 4th. <mask> we decided <mask> pick it <mask> by ourselves <mask> the 5th <mask> before we <mask> to the <mask> However, when <mask> came to <mask> airport again, <mask> couldn't find <mask> luggage and <mask> staff didn't <mask> why and <mask> told us <mask> leave. If <mask> luggage was <mask> it to <mask> airport on <mask> 4th, how <mask> it would <mask> on the <mask> The staff <mask> kept saying <mask> they were <mask> and that <mask> one had <mask> to look <mask> the baggage <mask> us. This <mask> was totally <mask> We spnet <mask> parking at <mask> airport and <mask> that we got nothing! You <mask> imagine how <mask> and frustrated <mask> were! We <mask> literally sick <mask> phoning Menzies <mask> every day <mask> not getting <mask> Now that <mask> staff asked <mask> to pressure <mask> to in <mask> pressure them <mask> locate our <mask> That's how <mask> things have <mask> for us. <mask> are sure <mask> you could <mask> something about <mask> My wife <mask> lost all <mask> personal belongings <mask> day 1 <mask> our trip.\""
      ]
     },
     "execution_count": 141,
     "metadata": {},
     "output_type": "execute_result"
    }
   ],
   "source": [
    "longest_sentence_masked = mask_sentence_2(longest_sentence, 10)\n",
    "longest_sentence_masked"
   ]
  },
  {
   "cell_type": "code",
   "execution_count": 142,
   "metadata": {},
   "outputs": [
    {
     "name": "stdout",
     "output_type": "stream",
     "text": [
      " Hong Kong to  Bangkok via London. This whole experience  was a nightmare  for me and  the wife. My  wife lost her  passport ever since  that first day  of our journey . 1st August  2016 our two  sets of luggage  got left in  Bangkok Airport by  the staff when  they took the  first flight from  the UK to  China We went  to Menzies in  HK and they  sent a repor.  It stated in  the missing report  and if the  luggage was found,  it should be  taken to our  friends b&b house , Marstal in  Bangkok on or  around 3rd August  or deliver to  the hotel we  stayed in CPH  as they were  due on 4th . On 2nd  August we found  that the updated  list of our  missing luggage in  the BA website  shows that one  match our luggage  got found while  other one had  no possible match.  While we kept  asking and emailing  the staff to  ask them to  deliver the luggage  in our house  and they failed 't do so.  But the website  it showed that  we chose to  pick up the  luggage in the  UK which was  not our preference  but we failed  the change the  date on the  site as it  were preset. The  website even changed  their latest delivery  time to 3th  August 2020 instead  to 2019 and  they could not  change it by ! On 3rd  August Menzies staff  again failed to  return the luggage to us so  We told them  we decided to  give them up  at the airport.  But when we  returned to the  Bangkok airport on  Thursday 4th August,  they told us  that they had  mistakenly sent the  missing luggage to  an island in  Thailand on 4th.  But they did  to follow our  advice and sent  them to the  same place on  a wrong date.  They then asked  them to find  the other luggage  which had been  found with a  potential match randomly  in the trolleys  of their office.  We did find  this other one  for ourselves in  the airport, which  we claimed had  got sent to  another island but  we insisted that  it was the  only match one!  They were so  rude and even  wanted us to  go to the  office to push  again to find  our baggage for  us We believe  that the baggage  of the one  that was sent  to the island  but is still  there but the  staff messed it  up We were  really confused which  we was really ? We finally  managed to ask  them to deliver  the luggage in  person to the  airport and send  them to the  right address which  was our next  destination When we  went back to  my hotel in  early evening on  August 4th, we  asked Menzies again  but found out  all our luggage  from Marstal had been sent back  from the airport <mask> 8 pm <mask> the 4th. <mask> we decided <mask> pick it <mask> by ourselves <mask> the 5th <mask> before we <mask> to the <mask> However, when <mask> came to <mask> airport again, <mask> couldn't find <mask> luggage and <mask> staff didn't <mask> why and <mask> told us <mask> leave. If <mask> luggage was <mask> it to <mask> airport on <mask> 4th, how <mask> it would <mask> on the <mask> The staff <mask> kept saying <mask> they were <mask> and that <mask> one had <mask> to look <mask> the baggage <mask> us. This <mask> was totally <mask> We spnet <mask> parking at <mask> airport and <mask> that we got nothing! You <mask> imagine how <mask> and frustrated <mask> were! We <mask> literally sick <mask> phoning Menzies <mask> every day <mask> not getting <mask> Now that <mask> staff asked <mask> to pressure <mask> to in <mask> pressure them <mask> locate our <mask> That's how <mask> things have <mask> for us. <mask> are sure <mask> you could <mask> something about <mask> My wife <mask> lost all <mask> personal belongings <mask> day 1 <mask> our trip.\n",
      "1.8445992469787598\n"
     ]
    }
   ],
   "source": [
    "start_time = time.time()\n",
    "print(predict_mask_tokens_2(longest_sentence_masked))\n",
    "print(time.time()-start_time)"
   ]
  },
  {
   "cell_type": "markdown",
   "metadata": {},
   "source": [
    "As we can see, even for the longest sentence, it takes just **1,84 seconds** for predictions all masked tokens. "
   ]
  },
  {
   "cell_type": "code",
   "execution_count": 143,
   "metadata": {},
   "outputs": [
    {
     "name": "stderr",
     "output_type": "stream",
     "text": [
      "c:\\Users\\Anas\\anaconda3\\lib\\site-packages\\gensim\\similarities\\__init__.py:15: UserWarning: The gensim.similarities.levenshtein submodule is disabled, because the optional Levenshtein package <https://pypi.org/project/python-Levenshtein/> is unavailable. Install Levenhstein (e.g. `pip install python-Levenshtein`) to suppress this warning.\n",
      "  warnings.warn(msg)\n"
     ]
    },
    {
     "name": "stdout",
     "output_type": "stream",
     "text": [
      "4 Hours before takeoff we received a Mail stating a cryptic message that there are disruptions to be expected as there is a limit on how many planes can leave at the same time.\n",
      "['quartet Hours before takeoff we received a Postal service stating a cryptic substance that there are hoo hah to make up expected as there is a limit on how many planes can leave at the like metre.']\n"
     ]
    }
   ],
   "source": [
    "import nlpaug.augmenter.word as naw\n",
    "\n",
    "aug = naw.SynonymAug(aug_src='wordnet')\n",
    "augmented_text = aug.augment(sentence)\n",
    "\n",
    "print(sentence)\n",
    "print(augmented_text)"
   ]
  },
  {
   "cell_type": "markdown",
   "metadata": {},
   "source": [
    "## Sentiment Analysis of customers based on their reviews"
   ]
  },
  {
   "cell_type": "code",
   "execution_count": 9,
   "metadata": {},
   "outputs": [],
   "source": [
    "import torch\n",
    "from transformers import BertTokenizer,BertForSequenceClassification\n",
    "from sklearn.model_selection import train_test_split"
   ]
  },
  {
   "cell_type": "code",
   "execution_count": 6,
   "metadata": {},
   "outputs": [
    {
     "data": {
      "text/plain": [
       "array([ 1.,  3.,  8.,  7.,  2.,  6.,  4.,  5., 10.,  9., nan])"
      ]
     },
     "execution_count": 6,
     "metadata": {},
     "output_type": "execute_result"
    }
   ],
   "source": [
    "df['OverallRating'].unique()"
   ]
  },
  {
   "cell_type": "code",
   "execution_count": 7,
   "metadata": {},
   "outputs": [
    {
     "data": {
      "text/plain": [
       "5"
      ]
     },
     "execution_count": 7,
     "metadata": {},
     "output_type": "execute_result"
    }
   ],
   "source": [
    "df['OverallRating'].isnull().sum()"
   ]
  },
  {
   "cell_type": "code",
   "execution_count": 22,
   "metadata": {},
   "outputs": [],
   "source": [
    "df2 = df[['OverallRating', 'ReviewBody']].dropna()"
   ]
  },
  {
   "cell_type": "code",
   "execution_count": 23,
   "metadata": {},
   "outputs": [],
   "source": [
    "new_lines = []\n",
    "for sentence, label in zip(df2['ReviewBody'][20:50], df2['OverallRating'][20:50]):\n",
    "    if len(sentence.split(' ')) <= 512:\n",
    "        new_lines.append([predict_mask_tokens(mask_sentence(sentence, 4)), label])\n",
    "        \n",
    "#df2_extension = pd.DataFrame(new_lines, columns =df2.columns)"
   ]
  },
  {
   "cell_type": "code",
   "execution_count": 24,
   "metadata": {},
   "outputs": [],
   "source": [
    "sen_len= df2['ReviewBody'].apply(lambda x: len(x.split(' ')))"
   ]
  },
  {
   "cell_type": "code",
   "execution_count": 49,
   "metadata": {},
   "outputs": [],
   "source": [
    "intervals = []\n",
    "for l in sen_len:\n",
    "    if l <= 100:\n",
    "        intervals.append('0 - 100')\n",
    "    elif l <= 200:\n",
    "        intervals.append('100 - 200')\n",
    "    elif l <= 300:\n",
    "        intervals.append('200 - 300')\n",
    "    elif l <= 400:\n",
    "        intervals.append('300 - 400')\n",
    "    elif l <= 500:\n",
    "        intervals.append('400 - 500')\n",
    "    else:\n",
    "        intervals.append('> 500')"
   ]
  },
  {
   "cell_type": "code",
   "execution_count": 56,
   "metadata": {},
   "outputs": [],
   "source": [
    "sen_intervals = pd.DataFrame({'length':list(sen_len), 'interval': intervals})"
   ]
  },
  {
   "cell_type": "code",
   "execution_count": 69,
   "metadata": {},
   "outputs": [
    {
     "data": {
      "text/plain": [
       "Text(0.5, 0, 'Length of Sentences')"
      ]
     },
     "execution_count": 69,
     "metadata": {},
     "output_type": "execute_result"
    },
    {
     "data": {
      "image/png": "[encoded data removed]",
      "text/plain": [
       "<Figure size 864x504 with 1 Axes>"
      ]
     },
     "metadata": {
      "needs_background": "light"
     },
     "output_type": "display_data"
    }
   ],
   "source": [
    "import seaborn as sns\n",
    "import matplotlib.pyplot as plt\n",
    "\n",
    "plt.figure(figsize=(12, 7))\n",
    "sns.countplot(x='interval', data=sen_intervals)\n",
    "\n",
    "plt.xlabel('Length of Sentences')"
   ]
  },
  {
   "cell_type": "code",
   "execution_count": 211,
   "metadata": {},
   "outputs": [],
   "source": [
    "df2_extension = pd.DataFrame(new_lines, columns = ['ReviewBody', 'OverallRating'])"
   ]
  },
  {
   "cell_type": "markdown",
   "metadata": {},
   "source": [
    "Let's hold the reviews with a nan rating to test our model on them after getting trained."
   ]
  },
  {
   "cell_type": "code",
   "execution_count": 43,
   "metadata": {},
   "outputs": [],
   "source": [
    "test_reviews = list(df.loc[(df['OverallRating'].isna()), 'ReviewBody'])"
   ]
  },
  {
   "cell_type": "markdown",
   "metadata": {},
   "source": [
    "### Label Encoding and Splitting the Data"
   ]
  },
  {
   "cell_type": "markdown",
   "metadata": {},
   "source": [
    "Now, let's encode these target values using LabelEncoding"
   ]
  },
  {
   "cell_type": "code",
   "execution_count": 20,
   "metadata": {},
   "outputs": [],
   "source": [
    "from sklearn.preprocessing import LabelEncoder\n",
    "\n",
    "labEnc = LabelEncoder()\n",
    "target_labels = labEnc.fit_transform(df2['OverallRating'])"
   ]
  },
  {
   "cell_type": "code",
   "execution_count": 21,
   "metadata": {},
   "outputs": [],
   "source": [
    "X = list(df2['ReviewBody'])\n",
    "y = list(target_labels)\n",
    "X_train, X_val, y_train, y_val = train_test_split(X, y, test_size=0.2, stratify=y)"
   ]
  },
  {
   "cell_type": "markdown",
   "metadata": {},
   "source": [
    "We add **stratify** to ensure that the splitting of data maintains the proportion of the target variable classes in both the training and validation sets. \n",
    "\n",
    "An alternative to the train_test_split function is using cross-validation (such as K-Fold or Stratified Cross-Validation). Cross-validation involves splitting the dataset into multiple subsets and iterate over each subset as both a training and testing set. It provides a more robust evaluation of the model’s performance by utilizing the entire dataset for training and testing."
   ]
  },
  {
   "cell_type": "markdown",
   "metadata": {},
   "source": [
    "### Tokenization and Creating the Datasets"
   ]
  },
  {
   "cell_type": "code",
   "execution_count": 22,
   "metadata": {},
   "outputs": [],
   "source": [
    "tokenizer = BertTokenizer.from_pretrained('bert-base-uncased')"
   ]
  },
  {
   "cell_type": "markdown",
   "metadata": {},
   "source": [
    "We choosed here the model 'bert-base-uncased' because we want a reasonably sized (**base**), case-insensitive (**uncased**) BERT model that doesn't require high computational resources."
   ]
  },
  {
   "cell_type": "code",
   "execution_count": 47,
   "metadata": {},
   "outputs": [
    {
     "data": {
      "text/plain": [
       "512"
      ]
     },
     "execution_count": 47,
     "metadata": {},
     "output_type": "execute_result"
    }
   ],
   "source": [
    "tokenizer.model_max_length"
   ]
  },
  {
   "cell_type": "code",
   "execution_count": 23,
   "metadata": {},
   "outputs": [],
   "source": [
    "X_train_encoding = tokenizer(X_train, padding=True, max_length=512, truncation=True)\n",
    "X_val_encoding = tokenizer(X_val, padding=True, max_length=512, truncation=True)"
   ]
  },
  {
   "cell_type": "code",
   "execution_count": 49,
   "metadata": {},
   "outputs": [
    {
     "data": {
      "text/plain": [
       "dict_keys(['input_ids', 'token_type_ids', 'attention_mask'])"
      ]
     },
     "execution_count": 49,
     "metadata": {},
     "output_type": "execute_result"
    }
   ],
   "source": [
    "X_train_encoding.keys()"
   ]
  },
  {
   "cell_type": "markdown",
   "metadata": {},
   "source": [
    "+ **Padding = True:** means that the tokenizer will pad the shorter sequences so that they have the same length as the longest sequence. If the max_length is specified (as in our case), they will have all this length. It gonna do so, by adding <pad> token.\n",
    "+ **truncation = True:** The sentences that exceed the max_length will be truncated to have this length by removing characters from the end of each of these sequence.\n",
    "+ So, the max_length influences both the padding and the truncation.\n",
    "+ And finally why we used 512 as a max length, this is because the pre-trained transformer model BERT has a **maximum token limit of 512** as you can see above."
   ]
  },
  {
   "cell_type": "code",
   "execution_count": 24,
   "metadata": {},
   "outputs": [],
   "source": [
    "from datasets import Dataset\n",
    "\n",
    "train_dataset = Dataset.from_dict({**X_train_encoding, \"labels\" : y_train})\n",
    "val_dataset = Dataset.from_dict({**X_val_encoding, \"labels\" : y_val})"
   ]
  },
  {
   "cell_type": "markdown",
   "metadata": {},
   "source": [
    "The resulting dictionary that we pass into the from_dict() function has the tokenized input features such as \"*input_ids*\" and \"*attention_mask*\",  along with the additional \"*label*\" key, which is suitable for creating a **Dataset object**."
   ]
  },
  {
   "cell_type": "markdown",
   "metadata": {},
   "source": [
    "### Defining the model and the evaluation metrics"
   ]
  },
  {
   "cell_type": "code",
   "execution_count": 25,
   "metadata": {},
   "outputs": [
    {
     "name": "stderr",
     "output_type": "stream",
     "text": [
      "Some weights of the model checkpoint at bert-base-uncased were not used when initializing BertForSequenceClassification: ['cls.predictions.transform.LayerNorm.bias', 'cls.predictions.transform.dense.bias', 'cls.predictions.decoder.weight', 'cls.seq_relationship.bias', 'cls.seq_relationship.weight', 'cls.predictions.transform.LayerNorm.weight', 'cls.predictions.bias', 'cls.predictions.transform.dense.weight']\n",
      "- This IS expected if you are initializing BertForSequenceClassification from the checkpoint of a model trained on another task or with another architecture (e.g. initializing a BertForSequenceClassification model from a BertForPreTraining model).\n",
      "- This IS NOT expected if you are initializing BertForSequenceClassification from the checkpoint of a model that you expect to be exactly identical (initializing a BertForSequenceClassification model from a BertForSequenceClassification model).\n",
      "Some weights of BertForSequenceClassification were not initialized from the model checkpoint at bert-base-uncased and are newly initialized: ['classifier.weight', 'classifier.bias']\n",
      "You should probably TRAIN this model on a down-stream task to be able to use it for predictions and inference.\n"
     ]
    }
   ],
   "source": [
    "model = BertForSequenceClassification.from_pretrained('bert-base-uncased', num_labels=10)"
   ]
  },
  {
   "cell_type": "code",
   "execution_count": 30,
   "metadata": {},
   "outputs": [],
   "source": [
    "model = model.to('cpu')"
   ]
  },
  {
   "cell_type": "markdown",
   "metadata": {},
   "source": [
    "It means that we are moving our model to **GPU** to faster training by taking advantage from the parallelizable computations handled by it."
   ]
  },
  {
   "cell_type": "code",
   "execution_count": 25,
   "metadata": {},
   "outputs": [
    {
     "name": "stdout",
     "output_type": "stream",
     "text": [
      "Number of GPUs available: 1\n",
      "Current GPU used: 0\n",
      "GPU 0: NVIDIA GeForce GTX 1650\n",
      "\tCUDA Version: 11.3\n",
      "\tCUDA Capability: 7.5\n",
      "\tTotal Memory: 4.00 GB\n",
      "\n",
      "Overall CUDA Version: 11.3\n"
     ]
    }
   ],
   "source": [
    "if torch.cuda.is_available():\n",
    "    \n",
    "    num_gpus = torch.cuda.device_count()\n",
    "    current_gpu = torch.cuda.current_device()\n",
    "    print(f\"Number of GPUs available: {num_gpus}\")\n",
    "    print(f\"Current GPU used: {current_gpu}\")\n",
    "    \n",
    "    gpu_properties = torch.cuda.get_device_properties(0)\n",
    "    print(f\"GPU {current_gpu}: {gpu_properties.name}\")\n",
    "    print(f\"\\tCUDA Version: {torch.version.cuda}\")\n",
    "    print(f\"\\tCUDA Capability: {gpu_properties.major}.{gpu_properties.minor}\")\n",
    "    print(f\"\\tTotal Memory: {gpu_properties.total_memory / (1024**3):.2f} GB\")\n",
    "    print()\n",
    "\n",
    "    print(f\"Overall CUDA Version: {torch.version.cuda}\")\n",
    "else:\n",
    "    print(\"No GPU available.\")"
   ]
  },
  {
   "cell_type": "code",
   "execution_count": 26,
   "metadata": {},
   "outputs": [],
   "source": [
    "import evaluate\n",
    "\n",
    "accuracy = evaluate.load(\"accuracy\")\n",
    "\n",
    "def compute_metrics(eval_pred):\n",
    "    logits, labels = eval_pred\n",
    "    predictions = np.argmax(logits, axis=1)\n",
    "    return accuracy.compute(predictions=predictions, references=labels)"
   ]
  },
  {
   "cell_type": "markdown",
   "metadata": {},
   "source": [
    "### Defining The Trainer"
   ]
  },
  {
   "cell_type": "code",
   "execution_count": 27,
   "metadata": {},
   "outputs": [],
   "source": [
    "from transformers import TrainingArguments, Trainer, IntervalStrategy, EarlyStoppingCallback"
   ]
  },
  {
   "cell_type": "code",
   "execution_count": 29,
   "metadata": {},
   "outputs": [
    {
     "name": "stdout",
     "output_type": "stream",
     "text": [
      "1.22.4\n"
     ]
    }
   ],
   "source": [
    "print(np.__version__)"
   ]
  },
  {
   "cell_type": "code",
   "execution_count": 31,
   "metadata": {},
   "outputs": [],
   "source": [
    "trainer = Trainer(\n",
    "    model=model,\n",
    "    args=TrainingArguments(\n",
    "        output_dir=\"/content/drive/MyDrive/BertForSequenceClassification\",  # Directory for saving model checkpoints and logs\n",
    "        overwrite_output_dir=True,\n",
    "        evaluation_strategy=IntervalStrategy.STEPS, # It's more recommended to use this in newer transformers version instead of the \"steps\" string\n",
    "        eval_steps=500, #  The number of times the entire training dataset will be processed by the model\n",
    "        save_steps=500,          # the frequency at which the model checkpoints are saved during training, 1000 is the same value of the eval_batch_size\n",
    "        num_train_epochs=5,\n",
    "        per_device_train_batch_size=8,\n",
    "        per_device_eval_batch_size=8,\n",
    "        learning_rate=1e-5,\n",
    "        weight_decay=0.05,\n",
    "        load_best_model_at_end = True\n",
    "    ),\n",
    "    train_dataset=train_dataset,  # Your training dataset\n",
    "    eval_dataset=val_dataset,    # Your evaluation dataset\n",
    "    compute_metrics=compute_metrics,\n",
    "    callbacks=[EarlyStoppingCallback(early_stopping_patience=3)] # to introduce early stopping to prevent overfitting\n",
    ")"
   ]
  },
  {
   "cell_type": "markdown",
   "metadata": {},
   "source": [
    "A **checkpoint** is a snapshot of the model's parameters and other relevant information at a particular point during training."
   ]
  },
  {
   "cell_type": "markdown",
   "metadata": {},
   "source": [
    "I'm using just one GPU, so there will be no **distributed training**. In distributed training, the training data is divided among the available GPUs, and each GPU processes a subset of the data independently. It allows you to take advantage of the parallel processing capabilities of multiple GPUs, potentially speeding up the training process compared to using a single GPU. If you have multiple GPUs, the **effective batch size** will be the product of *per_device_train_batch_size* and the number of GPUs. If you specify as well the *train_batch_size* parameter, it becomes the new effective batch size. So, it's up to you to ensure that it aligns with the available GPUs. It doesn't have to be equal to the effective batch size, but it needs to be a multiple of the effective batch size to distribute the workload evenly across GPUs."
   ]
  },
  {
   "cell_type": "code",
   "execution_count": 15,
   "metadata": {},
   "outputs": [
    {
     "data": {
      "text/plain": [
       "1847.5"
      ]
     },
     "execution_count": 15,
     "metadata": {},
     "output_type": "execute_result"
    }
   ],
   "source": [
    "total_steps = (len(X_train) / trainer.args.per_device_train_batch_size) * trainer.args.num_train_epochs\n",
    "total_steps"
   ]
  },
  {
   "cell_type": "markdown",
   "metadata": {},
   "source": [
    "### Training the model"
   ]
  },
  {
   "cell_type": "code",
   "execution_count": 23,
   "metadata": {},
   "outputs": [],
   "source": [
    "import torch\n",
    "torch.cuda.empty_cache()"
   ]
  },
  {
   "cell_type": "code",
   "execution_count": 32,
   "metadata": {},
   "outputs": [
    {
     "name": "stderr",
     "output_type": "stream",
     "text": [
      "c:\\Users\\Anas\\anaconda3\\lib\\site-packages\\transformers\\optimization.py:306: FutureWarning: This implementation of AdamW is deprecated and will be removed in a future version. Use the PyTorch implementation torch.optim.AdamW instead, or set `no_deprecation_warning=True` to disable this warning\n",
      "  warnings.warn(\n",
      "***** Running training *****\n",
      "  Num examples = 2956\n",
      "  Num Epochs = 5\n",
      "  Instantaneous batch size per device = 8\n",
      "  Total train batch size (w. parallel, distributed & accumulation) = 8\n",
      "  Gradient Accumulation steps = 1\n",
      "  Total optimization steps = 1850\n"
     ]
    },
    {
     "data": {
      "application/vnd.jupyter.widget-view+json": {
       "model_id": "2213037c84eb4f52954b2623bfe4ae3b",
       "version_major": 2,
       "version_minor": 0
      },
      "text/plain": [
       "  0%|          | 0/1850 [00:00<?, ?it/s]"
      ]
     },
     "metadata": {},
     "output_type": "display_data"
    },
    {
     "ename": "RuntimeError",
     "evalue": "CUDA out of memory. Tried to allocate 96.00 MiB (GPU 0; 4.00 GiB total capacity; 3.42 GiB already allocated; 0 bytes free; 3.46 GiB reserved in total by PyTorch) If reserved memory is >> allocated memory try setting max_split_size_mb to avoid fragmentation.  See documentation for Memory Management and PYTORCH_CUDA_ALLOC_CONF",
     "output_type": "error",
     "traceback": [
      "\u001b[1;31m---------------------------------------------------------------------------\u001b[0m",
      "\u001b[1;31mRuntimeError\u001b[0m                              Traceback (most recent call last)",
      "\u001b[1;32m~\\AppData\\Local\\Temp/ipykernel_25732/4032920361.py\u001b[0m in \u001b[0;36m<module>\u001b[1;34m\u001b[0m\n\u001b[1;32m----> 1\u001b[1;33m \u001b[0mtrainer\u001b[0m\u001b[1;33m.\u001b[0m\u001b[0mtrain\u001b[0m\u001b[1;33m(\u001b[0m\u001b[1;33m)\u001b[0m\u001b[1;33m\u001b[0m\u001b[1;33m\u001b[0m\u001b[0m\n\u001b[0m",
      "\u001b[1;32mc:\\Users\\Anas\\anaconda3\\lib\\site-packages\\transformers\\trainer.py\u001b[0m in \u001b[0;36mtrain\u001b[1;34m(self, resume_from_checkpoint, trial, ignore_keys_for_eval, **kwargs)\u001b[0m\n\u001b[0;32m   1398\u001b[0m                         \u001b[0mtr_loss_step\u001b[0m \u001b[1;33m=\u001b[0m \u001b[0mself\u001b[0m\u001b[1;33m.\u001b[0m\u001b[0mtraining_step\u001b[0m\u001b[1;33m(\u001b[0m\u001b[0mmodel\u001b[0m\u001b[1;33m,\u001b[0m \u001b[0minputs\u001b[0m\u001b[1;33m)\u001b[0m\u001b[1;33m\u001b[0m\u001b[1;33m\u001b[0m\u001b[0m\n\u001b[0;32m   1399\u001b[0m                 \u001b[1;32melse\u001b[0m\u001b[1;33m:\u001b[0m\u001b[1;33m\u001b[0m\u001b[1;33m\u001b[0m\u001b[0m\n\u001b[1;32m-> 1400\u001b[1;33m                     \u001b[0mtr_loss_step\u001b[0m \u001b[1;33m=\u001b[0m \u001b[0mself\u001b[0m\u001b[1;33m.\u001b[0m\u001b[0mtraining_step\u001b[0m\u001b[1;33m(\u001b[0m\u001b[0mmodel\u001b[0m\u001b[1;33m,\u001b[0m \u001b[0minputs\u001b[0m\u001b[1;33m)\u001b[0m\u001b[1;33m\u001b[0m\u001b[1;33m\u001b[0m\u001b[0m\n\u001b[0m\u001b[0;32m   1401\u001b[0m \u001b[1;33m\u001b[0m\u001b[0m\n\u001b[0;32m   1402\u001b[0m                 if (\n",
      "\u001b[1;32mc:\\Users\\Anas\\anaconda3\\lib\\site-packages\\transformers\\trainer.py\u001b[0m in \u001b[0;36mtraining_step\u001b[1;34m(self, model, inputs)\u001b[0m\n\u001b[0;32m   1982\u001b[0m \u001b[1;33m\u001b[0m\u001b[0m\n\u001b[0;32m   1983\u001b[0m         \u001b[1;32mwith\u001b[0m \u001b[0mself\u001b[0m\u001b[1;33m.\u001b[0m\u001b[0mautocast_smart_context_manager\u001b[0m\u001b[1;33m(\u001b[0m\u001b[1;33m)\u001b[0m\u001b[1;33m:\u001b[0m\u001b[1;33m\u001b[0m\u001b[1;33m\u001b[0m\u001b[0m\n\u001b[1;32m-> 1984\u001b[1;33m             \u001b[0mloss\u001b[0m \u001b[1;33m=\u001b[0m \u001b[0mself\u001b[0m\u001b[1;33m.\u001b[0m\u001b[0mcompute_loss\u001b[0m\u001b[1;33m(\u001b[0m\u001b[0mmodel\u001b[0m\u001b[1;33m,\u001b[0m \u001b[0minputs\u001b[0m\u001b[1;33m)\u001b[0m\u001b[1;33m\u001b[0m\u001b[1;33m\u001b[0m\u001b[0m\n\u001b[0m\u001b[0;32m   1985\u001b[0m \u001b[1;33m\u001b[0m\u001b[0m\n\u001b[0;32m   1986\u001b[0m         \u001b[1;32mif\u001b[0m \u001b[0mself\u001b[0m\u001b[1;33m.\u001b[0m\u001b[0margs\u001b[0m\u001b[1;33m.\u001b[0m\u001b[0mn_gpu\u001b[0m \u001b[1;33m>\u001b[0m \u001b[1;36m1\u001b[0m\u001b[1;33m:\u001b[0m\u001b[1;33m\u001b[0m\u001b[1;33m\u001b[0m\u001b[0m\n",
      "\u001b[1;32mc:\\Users\\Anas\\anaconda3\\lib\\site-packages\\transformers\\trainer.py\u001b[0m in \u001b[0;36mcompute_loss\u001b[1;34m(self, model, inputs, return_outputs)\u001b[0m\n\u001b[0;32m   2014\u001b[0m         \u001b[1;32melse\u001b[0m\u001b[1;33m:\u001b[0m\u001b[1;33m\u001b[0m\u001b[1;33m\u001b[0m\u001b[0m\n\u001b[0;32m   2015\u001b[0m             \u001b[0mlabels\u001b[0m \u001b[1;33m=\u001b[0m \u001b[1;32mNone\u001b[0m\u001b[1;33m\u001b[0m\u001b[1;33m\u001b[0m\u001b[0m\n\u001b[1;32m-> 2016\u001b[1;33m         \u001b[0moutputs\u001b[0m \u001b[1;33m=\u001b[0m \u001b[0mmodel\u001b[0m\u001b[1;33m(\u001b[0m\u001b[1;33m**\u001b[0m\u001b[0minputs\u001b[0m\u001b[1;33m)\u001b[0m\u001b[1;33m\u001b[0m\u001b[1;33m\u001b[0m\u001b[0m\n\u001b[0m\u001b[0;32m   2017\u001b[0m         \u001b[1;31m# Save past state if it exists\u001b[0m\u001b[1;33m\u001b[0m\u001b[1;33m\u001b[0m\u001b[0m\n\u001b[0;32m   2018\u001b[0m         \u001b[1;31m# TODO: this needs to be fixed and made cleaner later.\u001b[0m\u001b[1;33m\u001b[0m\u001b[1;33m\u001b[0m\u001b[0m\n",
      "\u001b[1;32mc:\\Users\\Anas\\anaconda3\\lib\\site-packages\\torch\\nn\\modules\\module.py\u001b[0m in \u001b[0;36m_call_impl\u001b[1;34m(self, *input, **kwargs)\u001b[0m\n\u001b[0;32m   1108\u001b[0m         if not (self._backward_hooks or self._forward_hooks or self._forward_pre_hooks or _global_backward_hooks\n\u001b[0;32m   1109\u001b[0m                 or _global_forward_hooks or _global_forward_pre_hooks):\n\u001b[1;32m-> 1110\u001b[1;33m             \u001b[1;32mreturn\u001b[0m \u001b[0mforward_call\u001b[0m\u001b[1;33m(\u001b[0m\u001b[1;33m*\u001b[0m\u001b[0minput\u001b[0m\u001b[1;33m,\u001b[0m \u001b[1;33m**\u001b[0m\u001b[0mkwargs\u001b[0m\u001b[1;33m)\u001b[0m\u001b[1;33m\u001b[0m\u001b[1;33m\u001b[0m\u001b[0m\n\u001b[0m\u001b[0;32m   1111\u001b[0m         \u001b[1;31m# Do not call functions when jit is used\u001b[0m\u001b[1;33m\u001b[0m\u001b[1;33m\u001b[0m\u001b[0m\n\u001b[0;32m   1112\u001b[0m         \u001b[0mfull_backward_hooks\u001b[0m\u001b[1;33m,\u001b[0m \u001b[0mnon_full_backward_hooks\u001b[0m \u001b[1;33m=\u001b[0m \u001b[1;33m[\u001b[0m\u001b[1;33m]\u001b[0m\u001b[1;33m,\u001b[0m \u001b[1;33m[\u001b[0m\u001b[1;33m]\u001b[0m\u001b[1;33m\u001b[0m\u001b[1;33m\u001b[0m\u001b[0m\n",
      "\u001b[1;32mc:\\Users\\Anas\\anaconda3\\lib\\site-packages\\transformers\\models\\bert\\modeling_bert.py\u001b[0m in \u001b[0;36mforward\u001b[1;34m(self, input_ids, attention_mask, token_type_ids, position_ids, head_mask, inputs_embeds, labels, output_attentions, output_hidden_states, return_dict)\u001b[0m\n\u001b[0;32m   1543\u001b[0m         \u001b[0mreturn_dict\u001b[0m \u001b[1;33m=\u001b[0m \u001b[0mreturn_dict\u001b[0m \u001b[1;32mif\u001b[0m \u001b[0mreturn_dict\u001b[0m \u001b[1;32mis\u001b[0m \u001b[1;32mnot\u001b[0m \u001b[1;32mNone\u001b[0m \u001b[1;32melse\u001b[0m \u001b[0mself\u001b[0m\u001b[1;33m.\u001b[0m\u001b[0mconfig\u001b[0m\u001b[1;33m.\u001b[0m\u001b[0muse_return_dict\u001b[0m\u001b[1;33m\u001b[0m\u001b[1;33m\u001b[0m\u001b[0m\n\u001b[0;32m   1544\u001b[0m \u001b[1;33m\u001b[0m\u001b[0m\n\u001b[1;32m-> 1545\u001b[1;33m         outputs = self.bert(\n\u001b[0m\u001b[0;32m   1546\u001b[0m             \u001b[0minput_ids\u001b[0m\u001b[1;33m,\u001b[0m\u001b[1;33m\u001b[0m\u001b[1;33m\u001b[0m\u001b[0m\n\u001b[0;32m   1547\u001b[0m             \u001b[0mattention_mask\u001b[0m\u001b[1;33m=\u001b[0m\u001b[0mattention_mask\u001b[0m\u001b[1;33m,\u001b[0m\u001b[1;33m\u001b[0m\u001b[1;33m\u001b[0m\u001b[0m\n",
      "\u001b[1;32mc:\\Users\\Anas\\anaconda3\\lib\\site-packages\\torch\\nn\\modules\\module.py\u001b[0m in \u001b[0;36m_call_impl\u001b[1;34m(self, *input, **kwargs)\u001b[0m\n\u001b[0;32m   1108\u001b[0m         if not (self._backward_hooks or self._forward_hooks or self._forward_pre_hooks or _global_backward_hooks\n\u001b[0;32m   1109\u001b[0m                 or _global_forward_hooks or _global_forward_pre_hooks):\n\u001b[1;32m-> 1110\u001b[1;33m             \u001b[1;32mreturn\u001b[0m \u001b[0mforward_call\u001b[0m\u001b[1;33m(\u001b[0m\u001b[1;33m*\u001b[0m\u001b[0minput\u001b[0m\u001b[1;33m,\u001b[0m \u001b[1;33m**\u001b[0m\u001b[0mkwargs\u001b[0m\u001b[1;33m)\u001b[0m\u001b[1;33m\u001b[0m\u001b[1;33m\u001b[0m\u001b[0m\n\u001b[0m\u001b[0;32m   1111\u001b[0m         \u001b[1;31m# Do not call functions when jit is used\u001b[0m\u001b[1;33m\u001b[0m\u001b[1;33m\u001b[0m\u001b[0m\n\u001b[0;32m   1112\u001b[0m         \u001b[0mfull_backward_hooks\u001b[0m\u001b[1;33m,\u001b[0m \u001b[0mnon_full_backward_hooks\u001b[0m \u001b[1;33m=\u001b[0m \u001b[1;33m[\u001b[0m\u001b[1;33m]\u001b[0m\u001b[1;33m,\u001b[0m \u001b[1;33m[\u001b[0m\u001b[1;33m]\u001b[0m\u001b[1;33m\u001b[0m\u001b[1;33m\u001b[0m\u001b[0m\n",
      "\u001b[1;32mc:\\Users\\Anas\\anaconda3\\lib\\site-packages\\transformers\\models\\bert\\modeling_bert.py\u001b[0m in \u001b[0;36mforward\u001b[1;34m(self, input_ids, attention_mask, token_type_ids, position_ids, head_mask, inputs_embeds, encoder_hidden_states, encoder_attention_mask, past_key_values, use_cache, output_attentions, output_hidden_states, return_dict)\u001b[0m\n\u001b[0;32m    994\u001b[0m             \u001b[0mpast_key_values_length\u001b[0m\u001b[1;33m=\u001b[0m\u001b[0mpast_key_values_length\u001b[0m\u001b[1;33m,\u001b[0m\u001b[1;33m\u001b[0m\u001b[1;33m\u001b[0m\u001b[0m\n\u001b[0;32m    995\u001b[0m         )\n\u001b[1;32m--> 996\u001b[1;33m         encoder_outputs = self.encoder(\n\u001b[0m\u001b[0;32m    997\u001b[0m             \u001b[0membedding_output\u001b[0m\u001b[1;33m,\u001b[0m\u001b[1;33m\u001b[0m\u001b[1;33m\u001b[0m\u001b[0m\n\u001b[0;32m    998\u001b[0m             \u001b[0mattention_mask\u001b[0m\u001b[1;33m=\u001b[0m\u001b[0mextended_attention_mask\u001b[0m\u001b[1;33m,\u001b[0m\u001b[1;33m\u001b[0m\u001b[1;33m\u001b[0m\u001b[0m\n",
      "\u001b[1;32mc:\\Users\\Anas\\anaconda3\\lib\\site-packages\\torch\\nn\\modules\\module.py\u001b[0m in \u001b[0;36m_call_impl\u001b[1;34m(self, *input, **kwargs)\u001b[0m\n\u001b[0;32m   1108\u001b[0m         if not (self._backward_hooks or self._forward_hooks or self._forward_pre_hooks or _global_backward_hooks\n\u001b[0;32m   1109\u001b[0m                 or _global_forward_hooks or _global_forward_pre_hooks):\n\u001b[1;32m-> 1110\u001b[1;33m             \u001b[1;32mreturn\u001b[0m \u001b[0mforward_call\u001b[0m\u001b[1;33m(\u001b[0m\u001b[1;33m*\u001b[0m\u001b[0minput\u001b[0m\u001b[1;33m,\u001b[0m \u001b[1;33m**\u001b[0m\u001b[0mkwargs\u001b[0m\u001b[1;33m)\u001b[0m\u001b[1;33m\u001b[0m\u001b[1;33m\u001b[0m\u001b[0m\n\u001b[0m\u001b[0;32m   1111\u001b[0m         \u001b[1;31m# Do not call functions when jit is used\u001b[0m\u001b[1;33m\u001b[0m\u001b[1;33m\u001b[0m\u001b[0m\n\u001b[0;32m   1112\u001b[0m         \u001b[0mfull_backward_hooks\u001b[0m\u001b[1;33m,\u001b[0m \u001b[0mnon_full_backward_hooks\u001b[0m \u001b[1;33m=\u001b[0m \u001b[1;33m[\u001b[0m\u001b[1;33m]\u001b[0m\u001b[1;33m,\u001b[0m \u001b[1;33m[\u001b[0m\u001b[1;33m]\u001b[0m\u001b[1;33m\u001b[0m\u001b[1;33m\u001b[0m\u001b[0m\n",
      "\u001b[1;32mc:\\Users\\Anas\\anaconda3\\lib\\site-packages\\transformers\\models\\bert\\modeling_bert.py\u001b[0m in \u001b[0;36mforward\u001b[1;34m(self, hidden_states, attention_mask, head_mask, encoder_hidden_states, encoder_attention_mask, past_key_values, use_cache, output_attentions, output_hidden_states, return_dict)\u001b[0m\n\u001b[0;32m    583\u001b[0m                 )\n\u001b[0;32m    584\u001b[0m             \u001b[1;32melse\u001b[0m\u001b[1;33m:\u001b[0m\u001b[1;33m\u001b[0m\u001b[1;33m\u001b[0m\u001b[0m\n\u001b[1;32m--> 585\u001b[1;33m                 layer_outputs = layer_module(\n\u001b[0m\u001b[0;32m    586\u001b[0m                     \u001b[0mhidden_states\u001b[0m\u001b[1;33m,\u001b[0m\u001b[1;33m\u001b[0m\u001b[1;33m\u001b[0m\u001b[0m\n\u001b[0;32m    587\u001b[0m                     \u001b[0mattention_mask\u001b[0m\u001b[1;33m,\u001b[0m\u001b[1;33m\u001b[0m\u001b[1;33m\u001b[0m\u001b[0m\n",
      "\u001b[1;32mc:\\Users\\Anas\\anaconda3\\lib\\site-packages\\torch\\nn\\modules\\module.py\u001b[0m in \u001b[0;36m_call_impl\u001b[1;34m(self, *input, **kwargs)\u001b[0m\n\u001b[0;32m   1108\u001b[0m         if not (self._backward_hooks or self._forward_hooks or self._forward_pre_hooks or _global_backward_hooks\n\u001b[0;32m   1109\u001b[0m                 or _global_forward_hooks or _global_forward_pre_hooks):\n\u001b[1;32m-> 1110\u001b[1;33m             \u001b[1;32mreturn\u001b[0m \u001b[0mforward_call\u001b[0m\u001b[1;33m(\u001b[0m\u001b[1;33m*\u001b[0m\u001b[0minput\u001b[0m\u001b[1;33m,\u001b[0m \u001b[1;33m**\u001b[0m\u001b[0mkwargs\u001b[0m\u001b[1;33m)\u001b[0m\u001b[1;33m\u001b[0m\u001b[1;33m\u001b[0m\u001b[0m\n\u001b[0m\u001b[0;32m   1111\u001b[0m         \u001b[1;31m# Do not call functions when jit is used\u001b[0m\u001b[1;33m\u001b[0m\u001b[1;33m\u001b[0m\u001b[0m\n\u001b[0;32m   1112\u001b[0m         \u001b[0mfull_backward_hooks\u001b[0m\u001b[1;33m,\u001b[0m \u001b[0mnon_full_backward_hooks\u001b[0m \u001b[1;33m=\u001b[0m \u001b[1;33m[\u001b[0m\u001b[1;33m]\u001b[0m\u001b[1;33m,\u001b[0m \u001b[1;33m[\u001b[0m\u001b[1;33m]\u001b[0m\u001b[1;33m\u001b[0m\u001b[1;33m\u001b[0m\u001b[0m\n",
      "\u001b[1;32mc:\\Users\\Anas\\anaconda3\\lib\\site-packages\\transformers\\models\\bert\\modeling_bert.py\u001b[0m in \u001b[0;36mforward\u001b[1;34m(self, hidden_states, attention_mask, head_mask, encoder_hidden_states, encoder_attention_mask, past_key_value, output_attentions)\u001b[0m\n\u001b[0;32m    470\u001b[0m         \u001b[1;31m# decoder uni-directional self-attention cached key/values tuple is at positions 1,2\u001b[0m\u001b[1;33m\u001b[0m\u001b[1;33m\u001b[0m\u001b[0m\n\u001b[0;32m    471\u001b[0m         \u001b[0mself_attn_past_key_value\u001b[0m \u001b[1;33m=\u001b[0m \u001b[0mpast_key_value\u001b[0m\u001b[1;33m[\u001b[0m\u001b[1;33m:\u001b[0m\u001b[1;36m2\u001b[0m\u001b[1;33m]\u001b[0m \u001b[1;32mif\u001b[0m \u001b[0mpast_key_value\u001b[0m \u001b[1;32mis\u001b[0m \u001b[1;32mnot\u001b[0m \u001b[1;32mNone\u001b[0m \u001b[1;32melse\u001b[0m \u001b[1;32mNone\u001b[0m\u001b[1;33m\u001b[0m\u001b[1;33m\u001b[0m\u001b[0m\n\u001b[1;32m--> 472\u001b[1;33m         self_attention_outputs = self.attention(\n\u001b[0m\u001b[0;32m    473\u001b[0m             \u001b[0mhidden_states\u001b[0m\u001b[1;33m,\u001b[0m\u001b[1;33m\u001b[0m\u001b[1;33m\u001b[0m\u001b[0m\n\u001b[0;32m    474\u001b[0m             \u001b[0mattention_mask\u001b[0m\u001b[1;33m,\u001b[0m\u001b[1;33m\u001b[0m\u001b[1;33m\u001b[0m\u001b[0m\n",
      "\u001b[1;32mc:\\Users\\Anas\\anaconda3\\lib\\site-packages\\torch\\nn\\modules\\module.py\u001b[0m in \u001b[0;36m_call_impl\u001b[1;34m(self, *input, **kwargs)\u001b[0m\n\u001b[0;32m   1108\u001b[0m         if not (self._backward_hooks or self._forward_hooks or self._forward_pre_hooks or _global_backward_hooks\n\u001b[0;32m   1109\u001b[0m                 or _global_forward_hooks or _global_forward_pre_hooks):\n\u001b[1;32m-> 1110\u001b[1;33m             \u001b[1;32mreturn\u001b[0m \u001b[0mforward_call\u001b[0m\u001b[1;33m(\u001b[0m\u001b[1;33m*\u001b[0m\u001b[0minput\u001b[0m\u001b[1;33m,\u001b[0m \u001b[1;33m**\u001b[0m\u001b[0mkwargs\u001b[0m\u001b[1;33m)\u001b[0m\u001b[1;33m\u001b[0m\u001b[1;33m\u001b[0m\u001b[0m\n\u001b[0m\u001b[0;32m   1111\u001b[0m         \u001b[1;31m# Do not call functions when jit is used\u001b[0m\u001b[1;33m\u001b[0m\u001b[1;33m\u001b[0m\u001b[0m\n\u001b[0;32m   1112\u001b[0m         \u001b[0mfull_backward_hooks\u001b[0m\u001b[1;33m,\u001b[0m \u001b[0mnon_full_backward_hooks\u001b[0m \u001b[1;33m=\u001b[0m \u001b[1;33m[\u001b[0m\u001b[1;33m]\u001b[0m\u001b[1;33m,\u001b[0m \u001b[1;33m[\u001b[0m\u001b[1;33m]\u001b[0m\u001b[1;33m\u001b[0m\u001b[1;33m\u001b[0m\u001b[0m\n",
      "\u001b[1;32mc:\\Users\\Anas\\anaconda3\\lib\\site-packages\\transformers\\models\\bert\\modeling_bert.py\u001b[0m in \u001b[0;36mforward\u001b[1;34m(self, hidden_states, attention_mask, head_mask, encoder_hidden_states, encoder_attention_mask, past_key_value, output_attentions)\u001b[0m\n\u001b[0;32m    400\u001b[0m         \u001b[0moutput_attentions\u001b[0m\u001b[1;33m=\u001b[0m\u001b[1;32mFalse\u001b[0m\u001b[1;33m,\u001b[0m\u001b[1;33m\u001b[0m\u001b[1;33m\u001b[0m\u001b[0m\n\u001b[0;32m    401\u001b[0m     ):\n\u001b[1;32m--> 402\u001b[1;33m         self_outputs = self.self(\n\u001b[0m\u001b[0;32m    403\u001b[0m             \u001b[0mhidden_states\u001b[0m\u001b[1;33m,\u001b[0m\u001b[1;33m\u001b[0m\u001b[1;33m\u001b[0m\u001b[0m\n\u001b[0;32m    404\u001b[0m             \u001b[0mattention_mask\u001b[0m\u001b[1;33m,\u001b[0m\u001b[1;33m\u001b[0m\u001b[1;33m\u001b[0m\u001b[0m\n",
      "\u001b[1;32mc:\\Users\\Anas\\anaconda3\\lib\\site-packages\\torch\\nn\\modules\\module.py\u001b[0m in \u001b[0;36m_call_impl\u001b[1;34m(self, *input, **kwargs)\u001b[0m\n\u001b[0;32m   1108\u001b[0m         if not (self._backward_hooks or self._forward_hooks or self._forward_pre_hooks or _global_backward_hooks\n\u001b[0;32m   1109\u001b[0m                 or _global_forward_hooks or _global_forward_pre_hooks):\n\u001b[1;32m-> 1110\u001b[1;33m             \u001b[1;32mreturn\u001b[0m \u001b[0mforward_call\u001b[0m\u001b[1;33m(\u001b[0m\u001b[1;33m*\u001b[0m\u001b[0minput\u001b[0m\u001b[1;33m,\u001b[0m \u001b[1;33m**\u001b[0m\u001b[0mkwargs\u001b[0m\u001b[1;33m)\u001b[0m\u001b[1;33m\u001b[0m\u001b[1;33m\u001b[0m\u001b[0m\n\u001b[0m\u001b[0;32m   1111\u001b[0m         \u001b[1;31m# Do not call functions when jit is used\u001b[0m\u001b[1;33m\u001b[0m\u001b[1;33m\u001b[0m\u001b[0m\n\u001b[0;32m   1112\u001b[0m         \u001b[0mfull_backward_hooks\u001b[0m\u001b[1;33m,\u001b[0m \u001b[0mnon_full_backward_hooks\u001b[0m \u001b[1;33m=\u001b[0m \u001b[1;33m[\u001b[0m\u001b[1;33m]\u001b[0m\u001b[1;33m,\u001b[0m \u001b[1;33m[\u001b[0m\u001b[1;33m]\u001b[0m\u001b[1;33m\u001b[0m\u001b[1;33m\u001b[0m\u001b[0m\n",
      "\u001b[1;32mc:\\Users\\Anas\\anaconda3\\lib\\site-packages\\transformers\\models\\bert\\modeling_bert.py\u001b[0m in \u001b[0;36mforward\u001b[1;34m(self, hidden_states, attention_mask, head_mask, encoder_hidden_states, encoder_attention_mask, past_key_value, output_attentions)\u001b[0m\n\u001b[0;32m    322\u001b[0m                 \u001b[0mattention_scores\u001b[0m \u001b[1;33m=\u001b[0m \u001b[0mattention_scores\u001b[0m \u001b[1;33m+\u001b[0m \u001b[0mrelative_position_scores_query\u001b[0m \u001b[1;33m+\u001b[0m \u001b[0mrelative_position_scores_key\u001b[0m\u001b[1;33m\u001b[0m\u001b[1;33m\u001b[0m\u001b[0m\n\u001b[0;32m    323\u001b[0m \u001b[1;33m\u001b[0m\u001b[0m\n\u001b[1;32m--> 324\u001b[1;33m         \u001b[0mattention_scores\u001b[0m \u001b[1;33m=\u001b[0m \u001b[0mattention_scores\u001b[0m \u001b[1;33m/\u001b[0m \u001b[0mmath\u001b[0m\u001b[1;33m.\u001b[0m\u001b[0msqrt\u001b[0m\u001b[1;33m(\u001b[0m\u001b[0mself\u001b[0m\u001b[1;33m.\u001b[0m\u001b[0mattention_head_size\u001b[0m\u001b[1;33m)\u001b[0m\u001b[1;33m\u001b[0m\u001b[1;33m\u001b[0m\u001b[0m\n\u001b[0m\u001b[0;32m    325\u001b[0m         \u001b[1;32mif\u001b[0m \u001b[0mattention_mask\u001b[0m \u001b[1;32mis\u001b[0m \u001b[1;32mnot\u001b[0m \u001b[1;32mNone\u001b[0m\u001b[1;33m:\u001b[0m\u001b[1;33m\u001b[0m\u001b[1;33m\u001b[0m\u001b[0m\n\u001b[0;32m    326\u001b[0m             \u001b[1;31m# Apply the attention mask is (precomputed for all layers in BertModel forward() function)\u001b[0m\u001b[1;33m\u001b[0m\u001b[1;33m\u001b[0m\u001b[0m\n",
      "\u001b[1;31mRuntimeError\u001b[0m: CUDA out of memory. Tried to allocate 96.00 MiB (GPU 0; 4.00 GiB total capacity; 3.42 GiB already allocated; 0 bytes free; 3.46 GiB reserved in total by PyTorch) If reserved memory is >> allocated memory try setting max_split_size_mb to avoid fragmentation.  See documentation for Memory Management and PYTORCH_CUDA_ALLOC_CONF"
     ]
    }
   ],
   "source": [
    "trainer.train()"
   ]
  }
 ],
 "metadata": {
  "kernelspec": {
   "display_name": "base",
   "language": "python",
   "name": "python3"
  },
  "language_info": {
   "codemirror_mode": {
    "name": "ipython",
    "version": 3
   },
   "file_extension": ".py",
   "mimetype": "text/x-python",
   "name": "python",
   "nbconvert_exporter": "python",
   "pygments_lexer": "ipython3",
   "version": "3.9.7"
  },
  "orig_nbformat": 4
 },
 "nbformat": 4,
 "nbformat_minor": 2
}
